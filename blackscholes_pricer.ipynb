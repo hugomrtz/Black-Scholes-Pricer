{
  "nbformat": 4,
  "nbformat_minor": 0,
  "metadata": {
    "colab": {
      "provenance": [],
      "authorship_tag": "ABX9TyMuTFULgR2S4xGwVi7Q49FB",
      "include_colab_link": true
    },
    "kernelspec": {
      "name": "python3",
      "display_name": "Python 3"
    },
    "language_info": {
      "name": "python"
    }
  },
  "cells": [
    {
      "cell_type": "markdown",
      "metadata": {
        "id": "view-in-github",
        "colab_type": "text"
      },
      "source": [
        "<a href=\"https://colab.research.google.com/github/hugomrtz/Black-Scholes-Pricer/blob/main/blackscholes_pricer.ipynb\" target=\"_parent\"><img src=\"https://colab.research.google.com/assets/colab-badge.svg\" alt=\"Open In Colab\"/></a>"
      ]
    },
    {
      "cell_type": "code",
      "execution_count": 1,
      "metadata": {
        "colab": {
          "base_uri": "https://localhost:8080/"
        },
        "id": "rrgucgc9BqKw",
        "outputId": "358c7e56-25ca-4bbd-ed5c-8b3992fd832b"
      },
      "outputs": [
        {
          "output_type": "stream",
          "name": "stdout",
          "text": [
            "Requirement already satisfied: yfinance in /usr/local/lib/python3.11/dist-packages (0.2.61)\n",
            "Requirement already satisfied: pandas>=1.3.0 in /usr/local/lib/python3.11/dist-packages (from yfinance) (2.2.2)\n",
            "Requirement already satisfied: numpy>=1.16.5 in /usr/local/lib/python3.11/dist-packages (from yfinance) (2.0.2)\n",
            "Requirement already satisfied: requests>=2.31 in /usr/local/lib/python3.11/dist-packages (from yfinance) (2.32.3)\n",
            "Requirement already satisfied: multitasking>=0.0.7 in /usr/local/lib/python3.11/dist-packages (from yfinance) (0.0.11)\n",
            "Requirement already satisfied: platformdirs>=2.0.0 in /usr/local/lib/python3.11/dist-packages (from yfinance) (4.3.8)\n",
            "Requirement already satisfied: pytz>=2022.5 in /usr/local/lib/python3.11/dist-packages (from yfinance) (2025.2)\n",
            "Requirement already satisfied: frozendict>=2.3.4 in /usr/local/lib/python3.11/dist-packages (from yfinance) (2.4.6)\n",
            "Requirement already satisfied: peewee>=3.16.2 in /usr/local/lib/python3.11/dist-packages (from yfinance) (3.18.1)\n",
            "Requirement already satisfied: beautifulsoup4>=4.11.1 in /usr/local/lib/python3.11/dist-packages (from yfinance) (4.13.4)\n",
            "Requirement already satisfied: curl_cffi>=0.7 in /usr/local/lib/python3.11/dist-packages (from yfinance) (0.11.1)\n",
            "Requirement already satisfied: protobuf>=3.19.0 in /usr/local/lib/python3.11/dist-packages (from yfinance) (5.29.5)\n",
            "Requirement already satisfied: websockets>=13.0 in /usr/local/lib/python3.11/dist-packages (from yfinance) (15.0.1)\n",
            "Requirement already satisfied: soupsieve>1.2 in /usr/local/lib/python3.11/dist-packages (from beautifulsoup4>=4.11.1->yfinance) (2.7)\n",
            "Requirement already satisfied: typing-extensions>=4.0.0 in /usr/local/lib/python3.11/dist-packages (from beautifulsoup4>=4.11.1->yfinance) (4.13.2)\n",
            "Requirement already satisfied: cffi>=1.12.0 in /usr/local/lib/python3.11/dist-packages (from curl_cffi>=0.7->yfinance) (1.17.1)\n",
            "Requirement already satisfied: certifi>=2024.2.2 in /usr/local/lib/python3.11/dist-packages (from curl_cffi>=0.7->yfinance) (2025.4.26)\n",
            "Requirement already satisfied: python-dateutil>=2.8.2 in /usr/local/lib/python3.11/dist-packages (from pandas>=1.3.0->yfinance) (2.9.0.post0)\n",
            "Requirement already satisfied: tzdata>=2022.7 in /usr/local/lib/python3.11/dist-packages (from pandas>=1.3.0->yfinance) (2025.2)\n",
            "Requirement already satisfied: charset-normalizer<4,>=2 in /usr/local/lib/python3.11/dist-packages (from requests>=2.31->yfinance) (3.4.2)\n",
            "Requirement already satisfied: idna<4,>=2.5 in /usr/local/lib/python3.11/dist-packages (from requests>=2.31->yfinance) (3.10)\n",
            "Requirement already satisfied: urllib3<3,>=1.21.1 in /usr/local/lib/python3.11/dist-packages (from requests>=2.31->yfinance) (2.4.0)\n",
            "Requirement already satisfied: pycparser in /usr/local/lib/python3.11/dist-packages (from cffi>=1.12.0->curl_cffi>=0.7->yfinance) (2.22)\n",
            "Requirement already satisfied: six>=1.5 in /usr/local/lib/python3.11/dist-packages (from python-dateutil>=2.8.2->pandas>=1.3.0->yfinance) (1.17.0)\n"
          ]
        }
      ],
      "source": [
        "import numpy as np\n",
        "import scipy.stats as si\n",
        "import matplotlib.pyplot as plt\n",
        "import plotly.graph_objects as go\n",
        "!pip install yfinance\n",
        "import yfinance as yf"
      ]
    },
    {
      "cell_type": "code",
      "source": [
        "ticker = 'AAPL' # Here an example for Apple data\n",
        "data = yf.Ticker(ticker)\n",
        "spot_price = data.history(period='1d')['Close'][0]\n",
        "\n",
        "S = spot_price   # actual spot\n",
        "K = 180   # strike\n",
        "T = 0.5  # time to maturity (in years)\n",
        "r = 0.045  # risk-free rate\n",
        "sigma = 0.15 # volatility\n",
        "\n",
        "\n",
        "def black_scholes_full(S, K, T, r, sigma):\n",
        "    d1 = (np.log(S / K) + (r + 0.5 * sigma**2) * T) / (sigma * np.sqrt(T))\n",
        "    d2 = d1 - sigma * np.sqrt(T)\n",
        "\n",
        "    call = S * si.norm.cdf(d1) - K * np.exp(-r * T) * si.norm.cdf(d2)\n",
        "    put = K * np.exp(-r * T) * si.norm.cdf(-d2) - S * si.norm.cdf(-d1)\n",
        "\n",
        "    delta_call = si.norm.cdf(d1)\n",
        "    delta_put = delta_call - 1\n",
        "\n",
        "    gamma = si.norm.pdf(d1) / (S * sigma * np.sqrt(T))\n",
        "\n",
        "    theta_call = (-S * si.norm.pdf(d1) * sigma / (2 * np.sqrt(T)) -\n",
        "                  r * K * np.exp(-r * T) * si.norm.cdf(d2))\n",
        "    theta_put = (-S * si.norm.pdf(d1) * sigma / (2 * np.sqrt(T)) +\n",
        "                 r * K * np.exp(-r * T) * si.norm.cdf(-d2))\n",
        "\n",
        "    vega = S * si.norm.pdf(d1) * np.sqrt(T)\n",
        "\n",
        "    return {\n",
        "        'call_price': call,\n",
        "        'put_price': put,\n",
        "        'd1': d1,\n",
        "        'd2': d2,\n",
        "        'delta_call': delta_call,\n",
        "        'delta_put': delta_put,\n",
        "        'gamma': gamma,\n",
        "        'theta_call': theta_call,\n",
        "        'theta_put': theta_put,\n",
        "        'vega': vega\n",
        "    }\n",
        "\n",
        "def plot_option_payoffs(K, option_type='call'):\n",
        "    S_range = np.linspace(K * 0.5, K * 1.5, 200)\n",
        "    payoff = []\n",
        "\n",
        "    for S in S_range:\n",
        "        if option_type == 'call':\n",
        "            payoff.append(max(S - K, 0))\n",
        "        else:\n",
        "            payoff.append(max(K - S, 0))\n",
        "\n",
        "    fig = go.Figure()\n",
        "    fig.add_trace(go.Scatter(x=S_range, y=payoff, mode='lines',\n",
        "                             name=f\"{option_type.capitalize()} Payoff\",\n",
        "                             line=dict(color='royalblue')))\n",
        "\n",
        "    fig.add_vline(x=K, line=dict(color='red', dash='dash'), annotation_text=\"Strike (K)\", annotation_position=\"top right\")\n",
        "    fig.update_layout(title=f\"{option_type.capitalize()} Option payoff at maturity\",\n",
        "                      xaxis_title='Spot price at maturity (S)',\n",
        "                      yaxis_title='Payoff',\n",
        "                      template='plotly_white')\n",
        "    fig.show()\n",
        "\n",
        "\n",
        "result = black_scholes_full(S, K, T, r, sigma)\n",
        "print(f\"Current Spot price for {ticker}: {spot_price:.2f}\") # Current spot price (at the last closure)\n",
        "\n",
        "print(\"Call price:\", round(result['call_price'], 2))\n",
        "print(\"Put price:\", round(result['put_price'], 2))\n",
        "\n",
        "print(f\"d1: {result['d1']:.4f} | d2: {result['d2']:.4f}\")\n",
        "\n",
        "print(f\"Delta Call: {result['delta_call']:.4f} | Delta Put: {result['delta_put']:.4f}\")\n",
        "print(f\"Gamma: {result['gamma']:.4f}\")\n",
        "print(f\"Theta Call: {result['theta_call']:.4f} | Theta Put: {result['theta_put']:.4f}\")\n",
        "print(f\"Vega: {result['vega']:.4f}\")\n",
        "\n",
        "# Interactive visualizations payoff\n",
        "plot_option_payoffs(K, option_type='call')\n",
        "plot_option_payoffs(K, option_type='put')"
      ],
      "metadata": {
        "colab": {
          "base_uri": "https://localhost:8080/",
          "height": 1000
        },
        "id": "k0XPv4R4Bvby",
        "outputId": "f635be2a-9739-4700-f543-748685686a34"
      },
      "execution_count": 2,
      "outputs": [
        {
          "output_type": "stream",
          "name": "stderr",
          "text": [
            "<ipython-input-2-2d58f1160b9c>:3: FutureWarning: Series.__getitem__ treating keys as positions is deprecated. In a future version, integer keys will always be treated as labels (consistent with DataFrame behavior). To access a value by position, use `ser.iloc[pos]`\n",
            "  spot_price = data.history(period='1d')['Close'][0]\n"
          ]
        },
        {
          "output_type": "stream",
          "name": "stdout",
          "text": [
            "Current Spot price for AAPL: 203.27\n",
            "Call price: 28.08\n",
            "Put price: 0.8\n",
            "d1: 1.4114 | d2: 1.3054\n",
            "Delta Call: 0.9209 | Delta Put: -0.0791\n",
            "Gamma: 0.0068\n",
            "Theta Call: -10.3371 | Theta Put: -2.4173\n",
            "Vega: 21.1783\n"
          ]
        },
        {
          "output_type": "display_data",
          "data": {
            "text/html": [
              "<html>\n",
              "<head><meta charset=\"utf-8\" /></head>\n",
              "<body>\n",
              "    <div>            <script src=\"https://cdnjs.cloudflare.com/ajax/libs/mathjax/2.7.5/MathJax.js?config=TeX-AMS-MML_SVG\"></script><script type=\"text/javascript\">if (window.MathJax && window.MathJax.Hub && window.MathJax.Hub.Config) {window.MathJax.Hub.Config({SVG: {font: \"STIX-Web\"}});}</script>                <script type=\"text/javascript\">window.PlotlyConfig = {MathJaxConfig: 'local'};</script>\n",
              "        <script charset=\"utf-8\" src=\"https://cdn.plot.ly/plotly-2.35.2.min.js\"></script>                <div id=\"75796fec-e7c9-45be-889c-1659521086dd\" class=\"plotly-graph-div\" style=\"height:525px; width:100%;\"></div>            <script type=\"text/javascript\">                                    window.PLOTLYENV=window.PLOTLYENV || {};                                    if (document.getElementById(\"75796fec-e7c9-45be-889c-1659521086dd\")) {                    Plotly.newPlot(                        \"75796fec-e7c9-45be-889c-1659521086dd\",                        [{\"line\":{\"color\":\"royalblue\"},\"mode\":\"lines\",\"name\":\"Call Payoff\",\"x\":[90.0,90.90452261306532,91.80904522613065,92.71356783919597,93.61809045226131,94.52261306532664,95.42713567839196,96.33165829145729,97.23618090452261,98.14070351758794,99.04522613065326,99.9497487437186,100.85427135678393,101.75879396984925,102.66331658291458,103.5678391959799,104.47236180904522,105.37688442211055,106.28140703517587,107.1859296482412,108.09045226130654,108.99497487437186,109.89949748743719,110.80402010050251,111.70854271356784,112.61306532663316,113.5175879396985,114.42211055276383,115.32663316582915,116.23115577889448,117.1356783919598,118.04020100502512,118.94472361809045,119.84924623115577,120.7537688442211,121.65829145728644,122.56281407035176,123.46733668341709,124.37185929648241,125.27638190954774,126.18090452261308,127.0854271356784,127.98994974874373,128.89447236180905,129.79899497487438,130.7035175879397,131.60804020100502,132.51256281407035,133.41708542713567,134.321608040201,135.22613065326632,136.13065326633165,137.035175879397,137.9396984924623,138.84422110552765,139.74874371859298,140.6532663316583,141.55778894472363,142.46231155778895,143.36683417085428,144.2713567839196,145.17587939698493,146.08040201005025,146.98492462311557,147.8894472361809,148.79396984924622,149.69849246231155,150.6030150753769,151.5075376884422,152.41206030150755,153.31658291457288,154.2211055276382,155.12562814070353,156.03015075376885,156.93467336683418,157.8391959798995,158.74371859296483,159.64824120603015,160.55276381909547,161.4572864321608,162.36180904522615,163.26633165829145,164.1708542713568,165.0753768844221,165.97989949748745,166.88442211055275,167.7889447236181,168.69346733668343,169.59798994974875,170.50251256281408,171.4070351758794,172.31155778894473,173.21608040201005,174.12060301507537,175.0251256281407,175.92964824120605,176.83417085427135,177.7386934673367,178.643216080402,179.54773869346735,180.45226130653265,181.356783919598,182.26130653266333,183.16582914572865,184.07035175879398,184.9748743718593,185.87939698492463,186.78391959798995,187.68844221105527,188.5929648241206,189.49748743718595,190.40201005025125,191.3065326633166,192.2110552763819,193.11557788944725,194.02010050251255,194.9246231155779,195.82914572864323,196.73366834170855,197.63819095477388,198.5427135678392,199.44723618090453,200.35175879396985,201.25628140703517,202.1608040201005,203.06532663316585,203.96984924623115,204.8743718592965,205.7788944723618,206.68341708542715,207.58793969849245,208.4924623115578,209.39698492462313,210.30150753768845,211.20603015075378,212.1105527638191,213.01507537688443,213.91959798994975,214.82412060301507,215.7286432160804,216.63316582914575,217.53768844221105,218.44221105527637,219.3467336683417,220.25125628140705,221.15577889447238,222.0603015075377,222.96482412060303,223.86934673366835,224.77386934673368,225.678391959799,226.58291457286433,227.48743718592965,228.39195979899498,229.2964824120603,230.20100502512562,231.10552763819095,232.01005025125627,232.9145728643216,233.81909547738695,234.72361809045228,235.6281407035176,236.53266331658293,237.43718592964825,238.34170854271358,239.2462311557789,240.15075376884423,241.05527638190955,241.95979899497488,242.8643216080402,243.76884422110552,244.67336683417085,245.57788944723617,246.4824120603015,247.38693467336685,248.29145728643218,249.1959798994975,250.10050251256283,251.00502512562815,251.90954773869348,252.8140703517588,253.71859296482413,254.62311557788945,255.52763819095478,256.4321608040201,257.3366834170854,258.24120603015075,259.1457286432161,260.0502512562814,260.95477386934675,261.8592964824121,262.7638190954774,263.6683417085427,264.57286432160805,265.4773869346734,266.3819095477387,267.286432160804,268.19095477386935,269.0954773869347,270.0],\"y\":[0,0,0,0,0,0,0,0,0,0,0,0,0,0,0,0,0,0,0,0,0,0,0,0,0,0,0,0,0,0,0,0,0,0,0,0,0,0,0,0,0,0,0,0,0,0,0,0,0,0,0,0,0,0,0,0,0,0,0,0,0,0,0,0,0,0,0,0,0,0,0,0,0,0,0,0,0,0,0,0,0,0,0,0,0,0,0,0,0,0,0,0,0,0,0,0,0,0,0,0,0.4522613065326482,1.3567839195980014,2.261306532663326,3.165829145728651,4.070351758793976,4.9748743718593005,5.879396984924625,6.78391959798995,7.688442211055275,8.5929648241206,9.497487437185953,10.40201005025125,11.306532663316602,12.211055276381899,13.115577889447252,14.020100502512548,14.924623115577901,15.829145728643226,16.73366834170855,17.638190954773876,18.5427135678392,19.447236180904525,20.35175879396985,21.256281407035175,22.1608040201005,23.065326633165853,23.96984924623115,24.874371859296502,25.7788944723618,26.683417085427152,27.58793969849245,28.4924623115578,29.396984924623126,30.30150753768845,31.206030150753776,32.1105527638191,33.015075376884425,33.91959798994975,34.824120603015075,35.7286432160804,36.63316582914575,37.53768844221105,38.442211055276374,39.3467336683417,40.25125628140705,41.15577889447238,42.0603015075377,42.964824120603026,43.86934673366835,44.773869346733676,45.678391959799,46.582914572864325,47.48743718592965,48.391959798994975,49.2964824120603,50.201005025125625,51.10552763819095,52.010050251256274,52.9145728643216,53.81909547738695,54.72361809045228,55.6281407035176,56.532663316582926,57.43718592964825,58.341708542713576,59.2462311557789,60.150753768844226,61.05527638190955,61.959798994974875,62.8643216080402,63.768844221105525,64.67336683417085,65.57788944723617,66.4824120603015,67.38693467336685,68.29145728643218,69.1959798994975,70.10050251256283,71.00502512562815,71.90954773869348,72.8140703517588,73.71859296482413,74.62311557788945,75.52763819095478,76.4321608040201,77.3366834170854,78.24120603015075,79.1457286432161,80.0502512562814,80.95477386934675,81.8592964824121,82.7638190954774,83.6683417085427,84.57286432160805,85.4773869346734,86.3819095477387,87.286432160804,88.19095477386935,89.0954773869347,90.0],\"type\":\"scatter\"}],                        {\"template\":{\"data\":{\"barpolar\":[{\"marker\":{\"line\":{\"color\":\"white\",\"width\":0.5},\"pattern\":{\"fillmode\":\"overlay\",\"size\":10,\"solidity\":0.2}},\"type\":\"barpolar\"}],\"bar\":[{\"error_x\":{\"color\":\"#2a3f5f\"},\"error_y\":{\"color\":\"#2a3f5f\"},\"marker\":{\"line\":{\"color\":\"white\",\"width\":0.5},\"pattern\":{\"fillmode\":\"overlay\",\"size\":10,\"solidity\":0.2}},\"type\":\"bar\"}],\"carpet\":[{\"aaxis\":{\"endlinecolor\":\"#2a3f5f\",\"gridcolor\":\"#C8D4E3\",\"linecolor\":\"#C8D4E3\",\"minorgridcolor\":\"#C8D4E3\",\"startlinecolor\":\"#2a3f5f\"},\"baxis\":{\"endlinecolor\":\"#2a3f5f\",\"gridcolor\":\"#C8D4E3\",\"linecolor\":\"#C8D4E3\",\"minorgridcolor\":\"#C8D4E3\",\"startlinecolor\":\"#2a3f5f\"},\"type\":\"carpet\"}],\"choropleth\":[{\"colorbar\":{\"outlinewidth\":0,\"ticks\":\"\"},\"type\":\"choropleth\"}],\"contourcarpet\":[{\"colorbar\":{\"outlinewidth\":0,\"ticks\":\"\"},\"type\":\"contourcarpet\"}],\"contour\":[{\"colorbar\":{\"outlinewidth\":0,\"ticks\":\"\"},\"colorscale\":[[0.0,\"#0d0887\"],[0.1111111111111111,\"#46039f\"],[0.2222222222222222,\"#7201a8\"],[0.3333333333333333,\"#9c179e\"],[0.4444444444444444,\"#bd3786\"],[0.5555555555555556,\"#d8576b\"],[0.6666666666666666,\"#ed7953\"],[0.7777777777777778,\"#fb9f3a\"],[0.8888888888888888,\"#fdca26\"],[1.0,\"#f0f921\"]],\"type\":\"contour\"}],\"heatmapgl\":[{\"colorbar\":{\"outlinewidth\":0,\"ticks\":\"\"},\"colorscale\":[[0.0,\"#0d0887\"],[0.1111111111111111,\"#46039f\"],[0.2222222222222222,\"#7201a8\"],[0.3333333333333333,\"#9c179e\"],[0.4444444444444444,\"#bd3786\"],[0.5555555555555556,\"#d8576b\"],[0.6666666666666666,\"#ed7953\"],[0.7777777777777778,\"#fb9f3a\"],[0.8888888888888888,\"#fdca26\"],[1.0,\"#f0f921\"]],\"type\":\"heatmapgl\"}],\"heatmap\":[{\"colorbar\":{\"outlinewidth\":0,\"ticks\":\"\"},\"colorscale\":[[0.0,\"#0d0887\"],[0.1111111111111111,\"#46039f\"],[0.2222222222222222,\"#7201a8\"],[0.3333333333333333,\"#9c179e\"],[0.4444444444444444,\"#bd3786\"],[0.5555555555555556,\"#d8576b\"],[0.6666666666666666,\"#ed7953\"],[0.7777777777777778,\"#fb9f3a\"],[0.8888888888888888,\"#fdca26\"],[1.0,\"#f0f921\"]],\"type\":\"heatmap\"}],\"histogram2dcontour\":[{\"colorbar\":{\"outlinewidth\":0,\"ticks\":\"\"},\"colorscale\":[[0.0,\"#0d0887\"],[0.1111111111111111,\"#46039f\"],[0.2222222222222222,\"#7201a8\"],[0.3333333333333333,\"#9c179e\"],[0.4444444444444444,\"#bd3786\"],[0.5555555555555556,\"#d8576b\"],[0.6666666666666666,\"#ed7953\"],[0.7777777777777778,\"#fb9f3a\"],[0.8888888888888888,\"#fdca26\"],[1.0,\"#f0f921\"]],\"type\":\"histogram2dcontour\"}],\"histogram2d\":[{\"colorbar\":{\"outlinewidth\":0,\"ticks\":\"\"},\"colorscale\":[[0.0,\"#0d0887\"],[0.1111111111111111,\"#46039f\"],[0.2222222222222222,\"#7201a8\"],[0.3333333333333333,\"#9c179e\"],[0.4444444444444444,\"#bd3786\"],[0.5555555555555556,\"#d8576b\"],[0.6666666666666666,\"#ed7953\"],[0.7777777777777778,\"#fb9f3a\"],[0.8888888888888888,\"#fdca26\"],[1.0,\"#f0f921\"]],\"type\":\"histogram2d\"}],\"histogram\":[{\"marker\":{\"pattern\":{\"fillmode\":\"overlay\",\"size\":10,\"solidity\":0.2}},\"type\":\"histogram\"}],\"mesh3d\":[{\"colorbar\":{\"outlinewidth\":0,\"ticks\":\"\"},\"type\":\"mesh3d\"}],\"parcoords\":[{\"line\":{\"colorbar\":{\"outlinewidth\":0,\"ticks\":\"\"}},\"type\":\"parcoords\"}],\"pie\":[{\"automargin\":true,\"type\":\"pie\"}],\"scatter3d\":[{\"line\":{\"colorbar\":{\"outlinewidth\":0,\"ticks\":\"\"}},\"marker\":{\"colorbar\":{\"outlinewidth\":0,\"ticks\":\"\"}},\"type\":\"scatter3d\"}],\"scattercarpet\":[{\"marker\":{\"colorbar\":{\"outlinewidth\":0,\"ticks\":\"\"}},\"type\":\"scattercarpet\"}],\"scattergeo\":[{\"marker\":{\"colorbar\":{\"outlinewidth\":0,\"ticks\":\"\"}},\"type\":\"scattergeo\"}],\"scattergl\":[{\"marker\":{\"colorbar\":{\"outlinewidth\":0,\"ticks\":\"\"}},\"type\":\"scattergl\"}],\"scattermapbox\":[{\"marker\":{\"colorbar\":{\"outlinewidth\":0,\"ticks\":\"\"}},\"type\":\"scattermapbox\"}],\"scatterpolargl\":[{\"marker\":{\"colorbar\":{\"outlinewidth\":0,\"ticks\":\"\"}},\"type\":\"scatterpolargl\"}],\"scatterpolar\":[{\"marker\":{\"colorbar\":{\"outlinewidth\":0,\"ticks\":\"\"}},\"type\":\"scatterpolar\"}],\"scatter\":[{\"fillpattern\":{\"fillmode\":\"overlay\",\"size\":10,\"solidity\":0.2},\"type\":\"scatter\"}],\"scatterternary\":[{\"marker\":{\"colorbar\":{\"outlinewidth\":0,\"ticks\":\"\"}},\"type\":\"scatterternary\"}],\"surface\":[{\"colorbar\":{\"outlinewidth\":0,\"ticks\":\"\"},\"colorscale\":[[0.0,\"#0d0887\"],[0.1111111111111111,\"#46039f\"],[0.2222222222222222,\"#7201a8\"],[0.3333333333333333,\"#9c179e\"],[0.4444444444444444,\"#bd3786\"],[0.5555555555555556,\"#d8576b\"],[0.6666666666666666,\"#ed7953\"],[0.7777777777777778,\"#fb9f3a\"],[0.8888888888888888,\"#fdca26\"],[1.0,\"#f0f921\"]],\"type\":\"surface\"}],\"table\":[{\"cells\":{\"fill\":{\"color\":\"#EBF0F8\"},\"line\":{\"color\":\"white\"}},\"header\":{\"fill\":{\"color\":\"#C8D4E3\"},\"line\":{\"color\":\"white\"}},\"type\":\"table\"}]},\"layout\":{\"annotationdefaults\":{\"arrowcolor\":\"#2a3f5f\",\"arrowhead\":0,\"arrowwidth\":1},\"autotypenumbers\":\"strict\",\"coloraxis\":{\"colorbar\":{\"outlinewidth\":0,\"ticks\":\"\"}},\"colorscale\":{\"diverging\":[[0,\"#8e0152\"],[0.1,\"#c51b7d\"],[0.2,\"#de77ae\"],[0.3,\"#f1b6da\"],[0.4,\"#fde0ef\"],[0.5,\"#f7f7f7\"],[0.6,\"#e6f5d0\"],[0.7,\"#b8e186\"],[0.8,\"#7fbc41\"],[0.9,\"#4d9221\"],[1,\"#276419\"]],\"sequential\":[[0.0,\"#0d0887\"],[0.1111111111111111,\"#46039f\"],[0.2222222222222222,\"#7201a8\"],[0.3333333333333333,\"#9c179e\"],[0.4444444444444444,\"#bd3786\"],[0.5555555555555556,\"#d8576b\"],[0.6666666666666666,\"#ed7953\"],[0.7777777777777778,\"#fb9f3a\"],[0.8888888888888888,\"#fdca26\"],[1.0,\"#f0f921\"]],\"sequentialminus\":[[0.0,\"#0d0887\"],[0.1111111111111111,\"#46039f\"],[0.2222222222222222,\"#7201a8\"],[0.3333333333333333,\"#9c179e\"],[0.4444444444444444,\"#bd3786\"],[0.5555555555555556,\"#d8576b\"],[0.6666666666666666,\"#ed7953\"],[0.7777777777777778,\"#fb9f3a\"],[0.8888888888888888,\"#fdca26\"],[1.0,\"#f0f921\"]]},\"colorway\":[\"#636efa\",\"#EF553B\",\"#00cc96\",\"#ab63fa\",\"#FFA15A\",\"#19d3f3\",\"#FF6692\",\"#B6E880\",\"#FF97FF\",\"#FECB52\"],\"font\":{\"color\":\"#2a3f5f\"},\"geo\":{\"bgcolor\":\"white\",\"lakecolor\":\"white\",\"landcolor\":\"white\",\"showlakes\":true,\"showland\":true,\"subunitcolor\":\"#C8D4E3\"},\"hoverlabel\":{\"align\":\"left\"},\"hovermode\":\"closest\",\"mapbox\":{\"style\":\"light\"},\"paper_bgcolor\":\"white\",\"plot_bgcolor\":\"white\",\"polar\":{\"angularaxis\":{\"gridcolor\":\"#EBF0F8\",\"linecolor\":\"#EBF0F8\",\"ticks\":\"\"},\"bgcolor\":\"white\",\"radialaxis\":{\"gridcolor\":\"#EBF0F8\",\"linecolor\":\"#EBF0F8\",\"ticks\":\"\"}},\"scene\":{\"xaxis\":{\"backgroundcolor\":\"white\",\"gridcolor\":\"#DFE8F3\",\"gridwidth\":2,\"linecolor\":\"#EBF0F8\",\"showbackground\":true,\"ticks\":\"\",\"zerolinecolor\":\"#EBF0F8\"},\"yaxis\":{\"backgroundcolor\":\"white\",\"gridcolor\":\"#DFE8F3\",\"gridwidth\":2,\"linecolor\":\"#EBF0F8\",\"showbackground\":true,\"ticks\":\"\",\"zerolinecolor\":\"#EBF0F8\"},\"zaxis\":{\"backgroundcolor\":\"white\",\"gridcolor\":\"#DFE8F3\",\"gridwidth\":2,\"linecolor\":\"#EBF0F8\",\"showbackground\":true,\"ticks\":\"\",\"zerolinecolor\":\"#EBF0F8\"}},\"shapedefaults\":{\"line\":{\"color\":\"#2a3f5f\"}},\"ternary\":{\"aaxis\":{\"gridcolor\":\"#DFE8F3\",\"linecolor\":\"#A2B1C6\",\"ticks\":\"\"},\"baxis\":{\"gridcolor\":\"#DFE8F3\",\"linecolor\":\"#A2B1C6\",\"ticks\":\"\"},\"bgcolor\":\"white\",\"caxis\":{\"gridcolor\":\"#DFE8F3\",\"linecolor\":\"#A2B1C6\",\"ticks\":\"\"}},\"title\":{\"x\":0.05},\"xaxis\":{\"automargin\":true,\"gridcolor\":\"#EBF0F8\",\"linecolor\":\"#EBF0F8\",\"ticks\":\"\",\"title\":{\"standoff\":15},\"zerolinecolor\":\"#EBF0F8\",\"zerolinewidth\":2},\"yaxis\":{\"automargin\":true,\"gridcolor\":\"#EBF0F8\",\"linecolor\":\"#EBF0F8\",\"ticks\":\"\",\"title\":{\"standoff\":15},\"zerolinecolor\":\"#EBF0F8\",\"zerolinewidth\":2}}},\"shapes\":[{\"line\":{\"color\":\"red\",\"dash\":\"dash\"},\"type\":\"line\",\"x0\":180,\"x1\":180,\"xref\":\"x\",\"y0\":0,\"y1\":1,\"yref\":\"y domain\"}],\"annotations\":[{\"showarrow\":false,\"text\":\"Strike (K)\",\"x\":180,\"xanchor\":\"left\",\"xref\":\"x\",\"y\":1,\"yanchor\":\"top\",\"yref\":\"y domain\"}],\"title\":{\"text\":\"Call Option payoff at maturity\"},\"xaxis\":{\"title\":{\"text\":\"Spot price at maturity (S)\"}},\"yaxis\":{\"title\":{\"text\":\"Payoff\"}}},                        {\"responsive\": true}                    ).then(function(){\n",
              "                            \n",
              "var gd = document.getElementById('75796fec-e7c9-45be-889c-1659521086dd');\n",
              "var x = new MutationObserver(function (mutations, observer) {{\n",
              "        var display = window.getComputedStyle(gd).display;\n",
              "        if (!display || display === 'none') {{\n",
              "            console.log([gd, 'removed!']);\n",
              "            Plotly.purge(gd);\n",
              "            observer.disconnect();\n",
              "        }}\n",
              "}});\n",
              "\n",
              "// Listen for the removal of the full notebook cells\n",
              "var notebookContainer = gd.closest('#notebook-container');\n",
              "if (notebookContainer) {{\n",
              "    x.observe(notebookContainer, {childList: true});\n",
              "}}\n",
              "\n",
              "// Listen for the clearing of the current output cell\n",
              "var outputEl = gd.closest('.output');\n",
              "if (outputEl) {{\n",
              "    x.observe(outputEl, {childList: true});\n",
              "}}\n",
              "\n",
              "                        })                };                            </script>        </div>\n",
              "</body>\n",
              "</html>"
            ]
          },
          "metadata": {}
        },
        {
          "output_type": "display_data",
          "data": {
            "text/html": [
              "<html>\n",
              "<head><meta charset=\"utf-8\" /></head>\n",
              "<body>\n",
              "    <div>            <script src=\"https://cdnjs.cloudflare.com/ajax/libs/mathjax/2.7.5/MathJax.js?config=TeX-AMS-MML_SVG\"></script><script type=\"text/javascript\">if (window.MathJax && window.MathJax.Hub && window.MathJax.Hub.Config) {window.MathJax.Hub.Config({SVG: {font: \"STIX-Web\"}});}</script>                <script type=\"text/javascript\">window.PlotlyConfig = {MathJaxConfig: 'local'};</script>\n",
              "        <script charset=\"utf-8\" src=\"https://cdn.plot.ly/plotly-2.35.2.min.js\"></script>                <div id=\"f147a6bf-8373-4bbf-b86b-3a68caa6a363\" class=\"plotly-graph-div\" style=\"height:525px; width:100%;\"></div>            <script type=\"text/javascript\">                                    window.PLOTLYENV=window.PLOTLYENV || {};                                    if (document.getElementById(\"f147a6bf-8373-4bbf-b86b-3a68caa6a363\")) {                    Plotly.newPlot(                        \"f147a6bf-8373-4bbf-b86b-3a68caa6a363\",                        [{\"line\":{\"color\":\"royalblue\"},\"mode\":\"lines\",\"name\":\"Put Payoff\",\"x\":[90.0,90.90452261306532,91.80904522613065,92.71356783919597,93.61809045226131,94.52261306532664,95.42713567839196,96.33165829145729,97.23618090452261,98.14070351758794,99.04522613065326,99.9497487437186,100.85427135678393,101.75879396984925,102.66331658291458,103.5678391959799,104.47236180904522,105.37688442211055,106.28140703517587,107.1859296482412,108.09045226130654,108.99497487437186,109.89949748743719,110.80402010050251,111.70854271356784,112.61306532663316,113.5175879396985,114.42211055276383,115.32663316582915,116.23115577889448,117.1356783919598,118.04020100502512,118.94472361809045,119.84924623115577,120.7537688442211,121.65829145728644,122.56281407035176,123.46733668341709,124.37185929648241,125.27638190954774,126.18090452261308,127.0854271356784,127.98994974874373,128.89447236180905,129.79899497487438,130.7035175879397,131.60804020100502,132.51256281407035,133.41708542713567,134.321608040201,135.22613065326632,136.13065326633165,137.035175879397,137.9396984924623,138.84422110552765,139.74874371859298,140.6532663316583,141.55778894472363,142.46231155778895,143.36683417085428,144.2713567839196,145.17587939698493,146.08040201005025,146.98492462311557,147.8894472361809,148.79396984924622,149.69849246231155,150.6030150753769,151.5075376884422,152.41206030150755,153.31658291457288,154.2211055276382,155.12562814070353,156.03015075376885,156.93467336683418,157.8391959798995,158.74371859296483,159.64824120603015,160.55276381909547,161.4572864321608,162.36180904522615,163.26633165829145,164.1708542713568,165.0753768844221,165.97989949748745,166.88442211055275,167.7889447236181,168.69346733668343,169.59798994974875,170.50251256281408,171.4070351758794,172.31155778894473,173.21608040201005,174.12060301507537,175.0251256281407,175.92964824120605,176.83417085427135,177.7386934673367,178.643216080402,179.54773869346735,180.45226130653265,181.356783919598,182.26130653266333,183.16582914572865,184.07035175879398,184.9748743718593,185.87939698492463,186.78391959798995,187.68844221105527,188.5929648241206,189.49748743718595,190.40201005025125,191.3065326633166,192.2110552763819,193.11557788944725,194.02010050251255,194.9246231155779,195.82914572864323,196.73366834170855,197.63819095477388,198.5427135678392,199.44723618090453,200.35175879396985,201.25628140703517,202.1608040201005,203.06532663316585,203.96984924623115,204.8743718592965,205.7788944723618,206.68341708542715,207.58793969849245,208.4924623115578,209.39698492462313,210.30150753768845,211.20603015075378,212.1105527638191,213.01507537688443,213.91959798994975,214.82412060301507,215.7286432160804,216.63316582914575,217.53768844221105,218.44221105527637,219.3467336683417,220.25125628140705,221.15577889447238,222.0603015075377,222.96482412060303,223.86934673366835,224.77386934673368,225.678391959799,226.58291457286433,227.48743718592965,228.39195979899498,229.2964824120603,230.20100502512562,231.10552763819095,232.01005025125627,232.9145728643216,233.81909547738695,234.72361809045228,235.6281407035176,236.53266331658293,237.43718592964825,238.34170854271358,239.2462311557789,240.15075376884423,241.05527638190955,241.95979899497488,242.8643216080402,243.76884422110552,244.67336683417085,245.57788944723617,246.4824120603015,247.38693467336685,248.29145728643218,249.1959798994975,250.10050251256283,251.00502512562815,251.90954773869348,252.8140703517588,253.71859296482413,254.62311557788945,255.52763819095478,256.4321608040201,257.3366834170854,258.24120603015075,259.1457286432161,260.0502512562814,260.95477386934675,261.8592964824121,262.7638190954774,263.6683417085427,264.57286432160805,265.4773869346734,266.3819095477387,267.286432160804,268.19095477386935,269.0954773869347,270.0],\"y\":[90.0,89.09547738693468,88.19095477386935,87.28643216080403,86.38190954773869,85.47738693467336,84.57286432160804,83.66834170854271,82.76381909547739,81.85929648241206,80.95477386934674,80.0502512562814,79.14572864321607,78.24120603015075,77.33668341708542,76.4321608040201,75.52763819095478,74.62311557788945,73.71859296482413,72.8140703517588,71.90954773869346,71.00502512562814,70.10050251256281,69.19597989949749,68.29145728643216,67.38693467336684,66.4824120603015,65.57788944723617,64.67336683417085,63.768844221105525,62.8643216080402,61.959798994974875,61.05527638190955,60.150753768844226,59.2462311557789,58.34170854271356,57.43718592964824,56.53266331658291,55.62814070351759,54.72361809045226,53.819095477386924,52.9145728643216,52.010050251256274,51.10552763819095,50.201005025125625,49.2964824120603,48.391959798994975,47.48743718592965,46.582914572864325,45.678391959799,44.773869346733676,43.86934673366835,42.964824120603,42.0603015075377,41.15577889447235,40.251256281407024,39.3467336683417,38.442211055276374,37.53768844221105,36.633165829145725,35.7286432160804,34.824120603015075,33.91959798994975,33.015075376884425,32.1105527638191,31.206030150753776,30.30150753768845,29.396984924623098,28.4924623115578,27.58793969849245,26.683417085427124,25.7788944723618,24.874371859296474,23.96984924623115,23.065326633165824,22.1608040201005,21.256281407035175,20.35175879396985,19.447236180904525,18.5427135678392,17.638190954773847,16.73366834170855,15.829145728643198,14.924623115577901,14.020100502512548,13.115577889447252,12.211055276381899,11.306532663316574,10.40201005025125,9.497487437185924,8.5929648241206,7.688442211055275,6.78391959798995,5.879396984924625,4.9748743718593005,4.070351758793947,3.165829145728651,2.2613065326632977,1.3567839195980014,0.4522613065326482,0,0,0,0,0,0,0,0,0,0,0,0,0,0,0,0,0,0,0,0,0,0,0,0,0,0,0,0,0,0,0,0,0,0,0,0,0,0,0,0,0,0,0,0,0,0,0,0,0,0,0,0,0,0,0,0,0,0,0,0,0,0,0,0,0,0,0,0,0,0,0,0,0,0,0,0,0,0,0,0,0,0,0,0,0,0,0,0,0,0,0,0,0,0,0,0,0,0,0,0],\"type\":\"scatter\"}],                        {\"template\":{\"data\":{\"barpolar\":[{\"marker\":{\"line\":{\"color\":\"white\",\"width\":0.5},\"pattern\":{\"fillmode\":\"overlay\",\"size\":10,\"solidity\":0.2}},\"type\":\"barpolar\"}],\"bar\":[{\"error_x\":{\"color\":\"#2a3f5f\"},\"error_y\":{\"color\":\"#2a3f5f\"},\"marker\":{\"line\":{\"color\":\"white\",\"width\":0.5},\"pattern\":{\"fillmode\":\"overlay\",\"size\":10,\"solidity\":0.2}},\"type\":\"bar\"}],\"carpet\":[{\"aaxis\":{\"endlinecolor\":\"#2a3f5f\",\"gridcolor\":\"#C8D4E3\",\"linecolor\":\"#C8D4E3\",\"minorgridcolor\":\"#C8D4E3\",\"startlinecolor\":\"#2a3f5f\"},\"baxis\":{\"endlinecolor\":\"#2a3f5f\",\"gridcolor\":\"#C8D4E3\",\"linecolor\":\"#C8D4E3\",\"minorgridcolor\":\"#C8D4E3\",\"startlinecolor\":\"#2a3f5f\"},\"type\":\"carpet\"}],\"choropleth\":[{\"colorbar\":{\"outlinewidth\":0,\"ticks\":\"\"},\"type\":\"choropleth\"}],\"contourcarpet\":[{\"colorbar\":{\"outlinewidth\":0,\"ticks\":\"\"},\"type\":\"contourcarpet\"}],\"contour\":[{\"colorbar\":{\"outlinewidth\":0,\"ticks\":\"\"},\"colorscale\":[[0.0,\"#0d0887\"],[0.1111111111111111,\"#46039f\"],[0.2222222222222222,\"#7201a8\"],[0.3333333333333333,\"#9c179e\"],[0.4444444444444444,\"#bd3786\"],[0.5555555555555556,\"#d8576b\"],[0.6666666666666666,\"#ed7953\"],[0.7777777777777778,\"#fb9f3a\"],[0.8888888888888888,\"#fdca26\"],[1.0,\"#f0f921\"]],\"type\":\"contour\"}],\"heatmapgl\":[{\"colorbar\":{\"outlinewidth\":0,\"ticks\":\"\"},\"colorscale\":[[0.0,\"#0d0887\"],[0.1111111111111111,\"#46039f\"],[0.2222222222222222,\"#7201a8\"],[0.3333333333333333,\"#9c179e\"],[0.4444444444444444,\"#bd3786\"],[0.5555555555555556,\"#d8576b\"],[0.6666666666666666,\"#ed7953\"],[0.7777777777777778,\"#fb9f3a\"],[0.8888888888888888,\"#fdca26\"],[1.0,\"#f0f921\"]],\"type\":\"heatmapgl\"}],\"heatmap\":[{\"colorbar\":{\"outlinewidth\":0,\"ticks\":\"\"},\"colorscale\":[[0.0,\"#0d0887\"],[0.1111111111111111,\"#46039f\"],[0.2222222222222222,\"#7201a8\"],[0.3333333333333333,\"#9c179e\"],[0.4444444444444444,\"#bd3786\"],[0.5555555555555556,\"#d8576b\"],[0.6666666666666666,\"#ed7953\"],[0.7777777777777778,\"#fb9f3a\"],[0.8888888888888888,\"#fdca26\"],[1.0,\"#f0f921\"]],\"type\":\"heatmap\"}],\"histogram2dcontour\":[{\"colorbar\":{\"outlinewidth\":0,\"ticks\":\"\"},\"colorscale\":[[0.0,\"#0d0887\"],[0.1111111111111111,\"#46039f\"],[0.2222222222222222,\"#7201a8\"],[0.3333333333333333,\"#9c179e\"],[0.4444444444444444,\"#bd3786\"],[0.5555555555555556,\"#d8576b\"],[0.6666666666666666,\"#ed7953\"],[0.7777777777777778,\"#fb9f3a\"],[0.8888888888888888,\"#fdca26\"],[1.0,\"#f0f921\"]],\"type\":\"histogram2dcontour\"}],\"histogram2d\":[{\"colorbar\":{\"outlinewidth\":0,\"ticks\":\"\"},\"colorscale\":[[0.0,\"#0d0887\"],[0.1111111111111111,\"#46039f\"],[0.2222222222222222,\"#7201a8\"],[0.3333333333333333,\"#9c179e\"],[0.4444444444444444,\"#bd3786\"],[0.5555555555555556,\"#d8576b\"],[0.6666666666666666,\"#ed7953\"],[0.7777777777777778,\"#fb9f3a\"],[0.8888888888888888,\"#fdca26\"],[1.0,\"#f0f921\"]],\"type\":\"histogram2d\"}],\"histogram\":[{\"marker\":{\"pattern\":{\"fillmode\":\"overlay\",\"size\":10,\"solidity\":0.2}},\"type\":\"histogram\"}],\"mesh3d\":[{\"colorbar\":{\"outlinewidth\":0,\"ticks\":\"\"},\"type\":\"mesh3d\"}],\"parcoords\":[{\"line\":{\"colorbar\":{\"outlinewidth\":0,\"ticks\":\"\"}},\"type\":\"parcoords\"}],\"pie\":[{\"automargin\":true,\"type\":\"pie\"}],\"scatter3d\":[{\"line\":{\"colorbar\":{\"outlinewidth\":0,\"ticks\":\"\"}},\"marker\":{\"colorbar\":{\"outlinewidth\":0,\"ticks\":\"\"}},\"type\":\"scatter3d\"}],\"scattercarpet\":[{\"marker\":{\"colorbar\":{\"outlinewidth\":0,\"ticks\":\"\"}},\"type\":\"scattercarpet\"}],\"scattergeo\":[{\"marker\":{\"colorbar\":{\"outlinewidth\":0,\"ticks\":\"\"}},\"type\":\"scattergeo\"}],\"scattergl\":[{\"marker\":{\"colorbar\":{\"outlinewidth\":0,\"ticks\":\"\"}},\"type\":\"scattergl\"}],\"scattermapbox\":[{\"marker\":{\"colorbar\":{\"outlinewidth\":0,\"ticks\":\"\"}},\"type\":\"scattermapbox\"}],\"scatterpolargl\":[{\"marker\":{\"colorbar\":{\"outlinewidth\":0,\"ticks\":\"\"}},\"type\":\"scatterpolargl\"}],\"scatterpolar\":[{\"marker\":{\"colorbar\":{\"outlinewidth\":0,\"ticks\":\"\"}},\"type\":\"scatterpolar\"}],\"scatter\":[{\"fillpattern\":{\"fillmode\":\"overlay\",\"size\":10,\"solidity\":0.2},\"type\":\"scatter\"}],\"scatterternary\":[{\"marker\":{\"colorbar\":{\"outlinewidth\":0,\"ticks\":\"\"}},\"type\":\"scatterternary\"}],\"surface\":[{\"colorbar\":{\"outlinewidth\":0,\"ticks\":\"\"},\"colorscale\":[[0.0,\"#0d0887\"],[0.1111111111111111,\"#46039f\"],[0.2222222222222222,\"#7201a8\"],[0.3333333333333333,\"#9c179e\"],[0.4444444444444444,\"#bd3786\"],[0.5555555555555556,\"#d8576b\"],[0.6666666666666666,\"#ed7953\"],[0.7777777777777778,\"#fb9f3a\"],[0.8888888888888888,\"#fdca26\"],[1.0,\"#f0f921\"]],\"type\":\"surface\"}],\"table\":[{\"cells\":{\"fill\":{\"color\":\"#EBF0F8\"},\"line\":{\"color\":\"white\"}},\"header\":{\"fill\":{\"color\":\"#C8D4E3\"},\"line\":{\"color\":\"white\"}},\"type\":\"table\"}]},\"layout\":{\"annotationdefaults\":{\"arrowcolor\":\"#2a3f5f\",\"arrowhead\":0,\"arrowwidth\":1},\"autotypenumbers\":\"strict\",\"coloraxis\":{\"colorbar\":{\"outlinewidth\":0,\"ticks\":\"\"}},\"colorscale\":{\"diverging\":[[0,\"#8e0152\"],[0.1,\"#c51b7d\"],[0.2,\"#de77ae\"],[0.3,\"#f1b6da\"],[0.4,\"#fde0ef\"],[0.5,\"#f7f7f7\"],[0.6,\"#e6f5d0\"],[0.7,\"#b8e186\"],[0.8,\"#7fbc41\"],[0.9,\"#4d9221\"],[1,\"#276419\"]],\"sequential\":[[0.0,\"#0d0887\"],[0.1111111111111111,\"#46039f\"],[0.2222222222222222,\"#7201a8\"],[0.3333333333333333,\"#9c179e\"],[0.4444444444444444,\"#bd3786\"],[0.5555555555555556,\"#d8576b\"],[0.6666666666666666,\"#ed7953\"],[0.7777777777777778,\"#fb9f3a\"],[0.8888888888888888,\"#fdca26\"],[1.0,\"#f0f921\"]],\"sequentialminus\":[[0.0,\"#0d0887\"],[0.1111111111111111,\"#46039f\"],[0.2222222222222222,\"#7201a8\"],[0.3333333333333333,\"#9c179e\"],[0.4444444444444444,\"#bd3786\"],[0.5555555555555556,\"#d8576b\"],[0.6666666666666666,\"#ed7953\"],[0.7777777777777778,\"#fb9f3a\"],[0.8888888888888888,\"#fdca26\"],[1.0,\"#f0f921\"]]},\"colorway\":[\"#636efa\",\"#EF553B\",\"#00cc96\",\"#ab63fa\",\"#FFA15A\",\"#19d3f3\",\"#FF6692\",\"#B6E880\",\"#FF97FF\",\"#FECB52\"],\"font\":{\"color\":\"#2a3f5f\"},\"geo\":{\"bgcolor\":\"white\",\"lakecolor\":\"white\",\"landcolor\":\"white\",\"showlakes\":true,\"showland\":true,\"subunitcolor\":\"#C8D4E3\"},\"hoverlabel\":{\"align\":\"left\"},\"hovermode\":\"closest\",\"mapbox\":{\"style\":\"light\"},\"paper_bgcolor\":\"white\",\"plot_bgcolor\":\"white\",\"polar\":{\"angularaxis\":{\"gridcolor\":\"#EBF0F8\",\"linecolor\":\"#EBF0F8\",\"ticks\":\"\"},\"bgcolor\":\"white\",\"radialaxis\":{\"gridcolor\":\"#EBF0F8\",\"linecolor\":\"#EBF0F8\",\"ticks\":\"\"}},\"scene\":{\"xaxis\":{\"backgroundcolor\":\"white\",\"gridcolor\":\"#DFE8F3\",\"gridwidth\":2,\"linecolor\":\"#EBF0F8\",\"showbackground\":true,\"ticks\":\"\",\"zerolinecolor\":\"#EBF0F8\"},\"yaxis\":{\"backgroundcolor\":\"white\",\"gridcolor\":\"#DFE8F3\",\"gridwidth\":2,\"linecolor\":\"#EBF0F8\",\"showbackground\":true,\"ticks\":\"\",\"zerolinecolor\":\"#EBF0F8\"},\"zaxis\":{\"backgroundcolor\":\"white\",\"gridcolor\":\"#DFE8F3\",\"gridwidth\":2,\"linecolor\":\"#EBF0F8\",\"showbackground\":true,\"ticks\":\"\",\"zerolinecolor\":\"#EBF0F8\"}},\"shapedefaults\":{\"line\":{\"color\":\"#2a3f5f\"}},\"ternary\":{\"aaxis\":{\"gridcolor\":\"#DFE8F3\",\"linecolor\":\"#A2B1C6\",\"ticks\":\"\"},\"baxis\":{\"gridcolor\":\"#DFE8F3\",\"linecolor\":\"#A2B1C6\",\"ticks\":\"\"},\"bgcolor\":\"white\",\"caxis\":{\"gridcolor\":\"#DFE8F3\",\"linecolor\":\"#A2B1C6\",\"ticks\":\"\"}},\"title\":{\"x\":0.05},\"xaxis\":{\"automargin\":true,\"gridcolor\":\"#EBF0F8\",\"linecolor\":\"#EBF0F8\",\"ticks\":\"\",\"title\":{\"standoff\":15},\"zerolinecolor\":\"#EBF0F8\",\"zerolinewidth\":2},\"yaxis\":{\"automargin\":true,\"gridcolor\":\"#EBF0F8\",\"linecolor\":\"#EBF0F8\",\"ticks\":\"\",\"title\":{\"standoff\":15},\"zerolinecolor\":\"#EBF0F8\",\"zerolinewidth\":2}}},\"shapes\":[{\"line\":{\"color\":\"red\",\"dash\":\"dash\"},\"type\":\"line\",\"x0\":180,\"x1\":180,\"xref\":\"x\",\"y0\":0,\"y1\":1,\"yref\":\"y domain\"}],\"annotations\":[{\"showarrow\":false,\"text\":\"Strike (K)\",\"x\":180,\"xanchor\":\"left\",\"xref\":\"x\",\"y\":1,\"yanchor\":\"top\",\"yref\":\"y domain\"}],\"title\":{\"text\":\"Put Option payoff at maturity\"},\"xaxis\":{\"title\":{\"text\":\"Spot price at maturity (S)\"}},\"yaxis\":{\"title\":{\"text\":\"Payoff\"}}},                        {\"responsive\": true}                    ).then(function(){\n",
              "                            \n",
              "var gd = document.getElementById('f147a6bf-8373-4bbf-b86b-3a68caa6a363');\n",
              "var x = new MutationObserver(function (mutations, observer) {{\n",
              "        var display = window.getComputedStyle(gd).display;\n",
              "        if (!display || display === 'none') {{\n",
              "            console.log([gd, 'removed!']);\n",
              "            Plotly.purge(gd);\n",
              "            observer.disconnect();\n",
              "        }}\n",
              "}});\n",
              "\n",
              "// Listen for the removal of the full notebook cells\n",
              "var notebookContainer = gd.closest('#notebook-container');\n",
              "if (notebookContainer) {{\n",
              "    x.observe(notebookContainer, {childList: true});\n",
              "}}\n",
              "\n",
              "// Listen for the clearing of the current output cell\n",
              "var outputEl = gd.closest('.output');\n",
              "if (outputEl) {{\n",
              "    x.observe(outputEl, {childList: true});\n",
              "}}\n",
              "\n",
              "                        })                };                            </script>        </div>\n",
              "</body>\n",
              "</html>"
            ]
          },
          "metadata": {}
        }
      ]
    }
  ]
}